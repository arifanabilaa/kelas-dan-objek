{
  "nbformat": 4,
  "nbformat_minor": 0,
  "metadata": {
    "colab": {
      "provenance": [],
      "authorship_tag": "ABX9TyPZsKxHOTeYRNmOBgx89gjE",
      "include_colab_link": true
    },
    "kernelspec": {
      "name": "python3",
      "display_name": "Python 3"
    },
    "language_info": {
      "name": "python"
    }
  },
  "cells": [
    {
      "cell_type": "markdown",
      "metadata": {
        "id": "view-in-github",
        "colab_type": "text"
      },
      "source": [
        "<a href=\"https://colab.research.google.com/github/arifanabilaa/kelas-dan-objek/blob/main/Mobil.ipynb\" target=\"_parent\"><img src=\"https://colab.research.google.com/assets/colab-badge.svg\" alt=\"Open In Colab\"/></a>"
      ]
    },
    {
      "cell_type": "code",
      "execution_count": 1,
      "metadata": {
        "colab": {
          "base_uri": "https://localhost:8080/"
        },
        "id": "hFYMxdKcwQdh",
        "outputId": "4bb7a439-1a1d-489b-c72c-68c574e9f0a6"
      },
      "outputs": [
        {
          "output_type": "stream",
          "name": "stdout",
          "text": [
            "Mesin mobil supra 4x dinyalakan.\n"
          ]
        }
      ],
      "source": [
        "class Mobil:\n",
        "    def nyalakan_mesin(self, merk):\n",
        "        print(f\"Mesin mobil {merk} dinyalakan.\")\n",
        "\n",
        "def main():\n",
        "    mbl = Mobil()\n",
        "    mbl.nyalakan_mesin(\"supra 4x\")\n",
        "\n",
        "if __name__ == \"__main__\":\n",
        "    main()"
      ]
    }
  ]
}