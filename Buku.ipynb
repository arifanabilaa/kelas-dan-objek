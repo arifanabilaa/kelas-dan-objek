{
  "nbformat": 4,
  "nbformat_minor": 0,
  "metadata": {
    "colab": {
      "provenance": [],
      "authorship_tag": "ABX9TyMyHLv0JpCfHwEB1wa6cfD0",
      "include_colab_link": true
    },
    "kernelspec": {
      "name": "python3",
      "display_name": "Python 3"
    },
    "language_info": {
      "name": "python"
    }
  },
  "cells": [
    {
      "cell_type": "markdown",
      "metadata": {
        "id": "view-in-github",
        "colab_type": "text"
      },
      "source": [
        "<a href=\"https://colab.research.google.com/github/arifanabilaa/kelas-dan-objek/blob/main/Buku.ipynb\" target=\"_parent\"><img src=\"https://colab.research.google.com/assets/colab-badge.svg\" alt=\"Open In Colab\"/></a>"
      ]
    },
    {
      "cell_type": "code",
      "execution_count": null,
      "metadata": {
        "colab": {
          "base_uri": "https://localhost:8080/"
        },
        "id": "zsz8byHwnNkB",
        "outputId": "0d533c97-b49c-4775-91a4-b0da8e38e199"
      },
      "outputs": [
        {
          "output_type": "stream",
          "name": "stdout",
          "text": [
            "Buku: Pemrograman Berorientasi Objek, Penulis: arifa\n"
          ]
        }
      ],
      "source": [
        "class Buku:\n",
        "    def info_buku(self, judul, penulis):\n",
        "        print(f\"Buku: {judul}, Penulis: {penulis}\")\n",
        "\n",
        "def main():\n",
        "    bk = Buku()\n",
        "    bk.info_buku(\"Pemrograman Berorientasi Objek\", \"arifa\")\n",
        "\n",
        "if __name__ == \"__main__\":\n",
        "    main()"
      ]
    }
  ]
}