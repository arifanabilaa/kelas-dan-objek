{
  "nbformat": 4,
  "nbformat_minor": 0,
  "metadata": {
    "colab": {
      "provenance": [],
      "authorship_tag": "ABX9TyPVZ5bU3dMeAN2HKBfmj1F0",
      "include_colab_link": true
    },
    "kernelspec": {
      "name": "python3",
      "display_name": "Python 3"
    },
    "language_info": {
      "name": "python"
    }
  },
  "cells": [
    {
      "cell_type": "markdown",
      "metadata": {
        "id": "view-in-github",
        "colab_type": "text"
      },
      "source": [
        "<a href=\"https://colab.research.google.com/github/arifanabilaa/kelas-dan-objek/blob/main/Lingkaran.ipynb\" target=\"_parent\"><img src=\"https://colab.research.google.com/assets/colab-badge.svg\" alt=\"Open In Colab\"/></a>"
      ]
    },
    {
      "cell_type": "code",
      "execution_count": null,
      "metadata": {
        "colab": {
          "base_uri": "https://localhost:8080/"
        },
        "id": "737CCgK4vgBD",
        "outputId": "5a5db6ac-cc55-412a-f4da-d3e13a5ae6d0"
      },
      "outputs": [
        {
          "output_type": "stream",
          "name": "stdout",
          "text": [
            "Luas lingkaran: 153.86\n"
          ]
        }
      ],
      "source": [
        "class Lingkaran:\n",
        "    def hitung_luas(self, jari_jari):\n",
        "        return 3.14 * jari_jari * jari_jari\n",
        "\n",
        "def main():\n",
        "    blt = Lingkaran()\n",
        "    print(f\"Luas lingkaran: {blt.hitung_luas(7)}\")\n",
        "\n",
        "if __name__ == \"__main__\":\n",
        "    main()"
      ]
    }
  ]
}