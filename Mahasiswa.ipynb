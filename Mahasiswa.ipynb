{
  "nbformat": 4,
  "nbformat_minor": 0,
  "metadata": {
    "colab": {
      "provenance": [],
      "authorship_tag": "ABX9TyP5VWTB9qYyM+f7kEDyvAKO",
      "include_colab_link": true
    },
    "kernelspec": {
      "name": "python3",
      "display_name": "Python 3"
    },
    "language_info": {
      "name": "python"
    }
  },
  "cells": [
    {
      "cell_type": "markdown",
      "metadata": {
        "id": "view-in-github",
        "colab_type": "text"
      },
      "source": [
        "<a href=\"https://colab.research.google.com/github/arifanabilaa/kelas-dan-objek/blob/main/Mahasiswa.ipynb\" target=\"_parent\"><img src=\"https://colab.research.google.com/assets/colab-badge.svg\" alt=\"Open In Colab\"/></a>"
      ]
    },
    {
      "cell_type": "code",
      "execution_count": null,
      "metadata": {
        "colab": {
          "base_uri": "https://localhost:8080/"
        },
        "id": "EU_qZ93Gv1Ij",
        "outputId": "179f74d1-c588-4705-d1bd-cd4d36f05d7e"
      },
      "outputs": [
        {
          "output_type": "stream",
          "name": "stdout",
          "text": [
            "Mahasiswa Arifa Nabila dengan NIM 230705129 mencetak KRS.\n"
          ]
        }
      ],
      "source": [
        "class Mahasiswa:\n",
        "    def cetak_krs(self, nama, nim):\n",
        "        print(f\"Mahasiswa {nama} dengan NIM {nim} mencetak KRS.\")\n",
        "\n",
        "def main():\n",
        "    mhs = Mahasiswa()\n",
        "    mhs.cetak_krs(\"Arifa Nabila\", \"230705129\")\n",
        "\n",
        "if __name__ == \"__main__\":\n",
        "    main()"
      ]
    }
  ]
}